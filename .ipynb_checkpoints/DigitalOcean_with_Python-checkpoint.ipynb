{
 "cells": [
  {
   "cell_type": "markdown",
   "metadata": {},
   "source": [
    "%set_env DIGITAL_TOKEN='Paste your token here'"
   ]
  },
  {
   "cell_type": "code",
   "execution_count": null,
   "metadata": {},
   "outputs": [],
   "source": [
    "dataBase = []\n",
    "class Human:\n",
    "    def __init__(self, givenFirstName, givenLastName, givenGender, givenStatus=None):\n",
    "        self.fname = givenFirstName\n",
    "        self.lname = givenLastName\n",
    "        self.gender = givenGender\n",
    "        self.status = givenStatus\n",
    "        if givenStatus is None:\n",
    "            self.status = False\n",
    "            \n",
    "    def print_info(self):\n",
    "        print(f'my name is {self.fname}')\n",
    "    def save_info(self):\n",
    "        dataBase.append({'First Name' : self.fname,\n",
    "                        'Last Name': self.fname,\n",
    "                        'Gender':self.gender,\n",
    "                        'Status': self.status})\n",
    "        print(f'{self.fname} has been added to Database')\n",
    "\n",
    "\n",
    "class Manager(Human):\n",
    "    pass\n",
    "        \n",
    "        \n",
    "user1 = Manager('Nadira', 'Saip', 'female', True)\n",
    "user2 = Manager ('Asal', 'Saip', 'female', True)"
   ]
  },
  {
   "cell_type": "markdown",
   "metadata": {},
   "source": [
    "import os\n",
    "import requests\n",
    "auth = {\n",
    "    \"Authorization\" : \"Bearer {}\".format(os.environ.get('DIGITAL_TOKEN')),\n",
    "    \"Content-Type\"  : \"application/json\"\n",
    "}\n",
    "\n",
    "def get_list_droplets():\n",
    "    url = \"https://api.digitalocean.com/v2/droplets?page=1&per_page=1\"\n",
    "    response = requests.get(url=url, headers=auth)\n",
    "    if response.status_code == 200:\n",
    "        print(response.json())\n",
    "    else:\n",
    "        print(f'API returned {response.status_code}')\n",
    "\n",
    "        \n",
    "get_list_droplets()"
   ]
  },
  {
   "cell_type": "code",
   "execution_count": null,
   "metadata": {},
   "outputs": [],
   "source": [
    "\n",
    "import os\n",
    "import requests\n",
    "auth = {\n",
    "    \"Authorization\" : \"Bearer {}\".format(os.environ.get('DIGITAL_TOKEN')),\n",
    "    \"Content-Type\"  : \"application/json\"\n",
    "}\n",
    "\n",
    "def get_list_droplets():\n",
    "    url = \"https://api.digitalocean.com/v2/droplets\"\n",
    "    response = requests.get(url=url, headers=auth)\n",
    "    if response.status_code == 200:\n",
    "        print(response.json())\n",
    "    else:\n",
    "        print(f'API returned {response.status_code}')\n",
    "\n",
    "\n",
    "#curl -X POST -d'{\"name\":\"example.com\",\"region\":\"nyc3\",\"size\":\"s-1vcpu-1gb\",\"image\":\"ubuntu-16-04-x64\",\"ssh_keys\":[107149],\"backups\":false,\"ipv6\":true,\"user_data\":null,\"private_networking\":null,\"volumes\": null,\"tags\":[\"web\"]}'\n",
    "\n",
    "def create_droplet(name, image):\n",
    "    url = \"https://api.digitalocean.com/v2/droplets\"\n",
    "    droplet = {\"name\":name,\n",
    "               \"region\":\"nyc3\",\n",
    "               \"size\":\"s-1vcpu-1gb\",\n",
    "               \"image\":image,\n",
    "               \"backups\":False,\n",
    "               \"ipv6\":True,\n",
    "               \"user_data\":None,\n",
    "               \"private_networking\":None,\n",
    "               \"volumes\": None,\n",
    "               \"tags\":[\"web\"]}\n",
    "    \n",
    "    response = requests.post(url=url, headers=auth, json=droplet)\n",
    "    if response.status_code == 200 and response.status_code == 202:\n",
    "        print('Droplet has been created !!' )\n",
    "        \n",
    "    else:\n",
    "        print(f'API returned {response.status_code}')\n",
    "\n",
    "droplet_list = ['MYSQL', 'HTTPD-SERVER', 'DOCKER', 'DAC-SERVER']\n",
    "for droplet in droplet_list:\n",
    "    create_droplet(droplet, 'ubuntu-16-04-x64')"
   ]
  },
  {
   "cell_type": "code",
   "execution_count": null,
   "metadata": {},
   "outputs": [],
   "source": [
    "import json\n",
    "print(json.loads('{\"name\":\"example.com\",\"region\":\"nyc3\",\"size\":\"s-1vcpu-1gb\",\"image\":\"ubuntu-16-04-x64\",\"ssh_keys\":[107149],\"backups\":false,\"ipv6\":true,\"user_data\":null,\"private_networking\":null,\"volumes\": null,\"tags\":[\"web\"]}'))"
   ]
  },
  {
   "cell_type": "code",
   "execution_count": null,
   "metadata": {},
   "outputs": [],
   "source": []
  }
 ],
 "metadata": {
  "kernelspec": {
   "display_name": "Python 3",
   "language": "python",
   "name": "python3"
  },
  "language_info": {
   "codemirror_mode": {
    "name": "ipython",
    "version": 3
   },
   "file_extension": ".py",
   "mimetype": "text/x-python",
   "name": "python",
   "nbconvert_exporter": "python",
   "pygments_lexer": "ipython3",
   "version": "3.6.5"
  }
 },
 "nbformat": 4,
 "nbformat_minor": 2
}
