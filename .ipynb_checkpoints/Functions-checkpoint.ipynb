{
 "cells": [
  {
   "cell_type": "code",
   "execution_count": null,
   "metadata": {},
   "outputs": [],
   "source": [
    "fuchicorpDatabase = []\n",
    "\n",
    "def new_student(firstname, lastname, username, group):\n",
    "    student = {}\n",
    "    student['firstname'] = firstname.capitalize()\n",
    "    student['lastname'] = lastname.capitalize()\n",
    "    student['username'] = username.lower()\n",
    "    student['group'] = group.capitalize()\n",
    "    fuchicorpDatabase.append(student)\n",
    "    print(f'User {username}, has been added to Fuchicorp.')\n",
    "\n",
    "    \n",
    "def delete_users(username):\n",
    "    for user in fuchicorpDatabase:\n",
    "        if user['username'] == username:\n",
    "            fuchicorpDatabase.remove(user)\n",
    "            print('User has been removed from FuchiCorp')\n",
    "        else:\n",
    "            print('User not found')\n",
    "def change_fullname(username, first_name = None, last_name = None):\n",
    "    for user in evolveCyberDatabase:\n",
    "        if user['username'] == username:\n",
    "        if first_name:   \n",
    "            user['first-name'] = first_name\n",
    "            print('First name has been updated')\n",
    "        if last_name:\n",
    "            user['last-name'] = last_name\n",
    "            print('Last name has been updated')\n",
    "   \n",
    " def is_student_exist(username):\n",
    "        for user in evolveCyberDatabse:\n",
    "            if username == user['username']:\n",
    "                return True\n",
    "            return False\n",
    "        \n"
   ]
  },
  {
   "cell_type": "code",
   "execution_count": null,
   "metadata": {},
   "outputs": [],
   "source": [
    "print user in evolveCyberDatabase:"
   ]
  },
  {
   "cell_type": "code",
   "execution_count": null,
   "metadata": {
    "scrolled": true
   },
   "outputs": [],
   "source": [
    "new_student('aziza', 'Nemad', 'azia93', 'devops')  #anyting in the brackets are arguments\n",
    "new_student('abdul', 'sharif', 'abdulcoder', 'dev') \n",
    "new_student('nadira', 'saip', 'nsaip', 'devops')\n",
    "new_student('farhod', 'sadykov', 'fsadykov', 'devops')\n"
   ]
  }
 ],
 "metadata": {
  "kernelspec": {
   "display_name": "Python 3",
   "language": "python",
   "name": "python3"
  },
  "language_info": {
   "codemirror_mode": {
    "name": "ipython",
    "version": 3
   },
   "file_extension": ".py",
   "mimetype": "text/x-python",
   "name": "python",
   "nbconvert_exporter": "python",
   "pygments_lexer": "ipython3",
   "version": "3.6.5"
  }
 },
 "nbformat": 4,
 "nbformat_minor": 2
}
