{
 "cells": [
  {
   "cell_type": "code",
   "execution_count": null,
   "metadata": {
    "scrolled": true
   },
   "outputs": [],
   "source": [
    "door = 'open'\n",
    "if door == 'open': #while condition use == signs\n",
    "    print('Yes, you can go!')\n",
    "    "
   ]
  },
  {
   "cell_type": "code",
   "execution_count": null,
   "metadata": {},
   "outputs": [],
   "source": [
    "door = 'close'\n",
    "if door == 'open': #while condition use == signs\n",
    "    print('Yes, you can go!')\n",
    "\n",
    "elif door == 'close': #if  else if condition exists\n",
    "    print ('No, you can not go')"
   ]
  },
  {
   "cell_type": "code",
   "execution_count": null,
   "metadata": {},
   "outputs": [],
   "source": [
    "door = 'djsje'\n",
    "if door == 'open': #while condition use == signs\n",
    "    print('Yes, you can go!')\n",
    "\n",
    "elif door == 'close': #if  else if condition exists\n",
    "    print ('No, you can not go')\n",
    "    \n",
    "else:     #if it doesn't match anyt of the values then print out the else output\n",
    "    print ('smth wrong')"
   ]
  },
  {
   "cell_type": "code",
   "execution_count": null,
   "metadata": {},
   "outputs": [],
   "source": [
    "name = input(\"what is your name?:\") #input takes by default strings, you can convert into integer "
   ]
  },
  {
   "cell_type": "code",
   "execution_count": null,
   "metadata": {},
   "outputs": [],
   "source": [
    "print(name) # it takes the variable and prints output"
   ]
  },
  {
   "cell_type": "code",
   "execution_count": null,
   "metadata": {},
   "outputs": [],
   "source": [
    "name = input(\"what is your name?:\")\n",
    "name = name.capitalize()\n",
    "if name == \"Anna\":\n",
    "    print ('Privet '+  name)\n",
    "elif name == 'Nadira':\n",
    "    print ('Salom'+  name)\n",
    "else:\n",
    "    print ('Hello  ' +  name)"
   ]
  },
  {
   "cell_type": "code",
   "execution_count": null,
   "metadata": {},
   "outputs": [],
   "source": [
    "black_list = ['Abdul', 'Fg', 'Florin'] # list starts with square brackerts[]\n",
    "\n",
    "student = input('what is your name?:')\n",
    "if student.capitalize() in black_list:   # in can only be used with long datas\n",
    "    print ('Sorry you can not come ')\n",
    "else :\n",
    "    print('Hello come in')"
   ]
  },
  {
   "cell_type": "code",
   "execution_count": 35,
   "metadata": {},
   "outputs": [
    {
     "name": "stdout",
     "output_type": "stream",
     "text": [
      " what is your name ?k\n",
      "what is your birthday ?:2018\n",
      " \"your name is\":K ,\"your age is \"\": 1\n"
     ]
    }
   ],
   "source": [
    "name = input (' what is your name ?').capitalize()\n",
    "year = int(input ('what is your birthday ?:'))\n",
    "age = 2019 - year\n",
    "print (f' \"your name is\":{name} ,\"your age is \"\": {age}')\n",
    "    "
   ]
  },
  {
   "cell_type": "code",
   "execution_count": 30,
   "metadata": {},
   "outputs": [
    {
     "name": "stdout",
     "output_type": "stream",
     "text": [
      "Door is close!\n"
     ]
    }
   ],
   "source": [
    "door = False\n",
    "if door:\n",
    "    print ('please come in')\n",
    "else:\n",
    "    print ('Door is close!')"
   ]
  },
  {
   "cell_type": "code",
   "execution_count": 40,
   "metadata": {
    "scrolled": true
   },
   "outputs": [
    {
     "name": "stdout",
     "output_type": "stream",
     "text": [
      "abdul\n"
     ]
    }
   ],
   "source": [
    "student = {\n",
    "    'first_name': 'abdul', \n",
    "    'last_name': 'sharif',\n",
    "    'username': 'asharif', \n",
    "    'password': 'redhat',\n",
    "    'status': False, \n",
    "    'classes' : ['Python', 'Terraform', 'Ansible']\n",
    "}\n",
    "print (student['first_name'])\n"
   ]
  },
  {
   "cell_type": "code",
   "execution_count": null,
   "metadata": {},
   "outputs": [],
   "source": [
    "student = {\n",
    "    'first_name': 'abdul', \n",
    "    'last_name': 'sharif',\n",
    "    'username': 'asharif', \n",
    "    'password': 'redhat',\n",
    "    'status': False, \n",
    "    'classes' : ['Python', 'Terraform', 'Ansible']\n",
    "}\n",
    "print (f'##### Information about {student[\"first_name\"]} {student[\"last_name\"]}#####')\n",
    "print ('###############################')\n",
    "print (f'## Username :{student[\"username\"]} {student[\"last_name\"]}')\n",
    "if student ['status']:\n",
    "       print (f' ## user can login')\n",
    "else:\n",
    "       print ('user can not login')\n",
    "if 'Python' in student ['classes']:\n",
    "       print(f'## user attends python class')\n",
    "elif "
   ]
  },
  {
   "cell_type": "code",
   "execution_count": null,
   "metadata": {},
   "outputs": [],
   "source": []
  }
 ],
 "metadata": {
  "kernelspec": {
   "display_name": "Python 3",
   "language": "python",
   "name": "python3"
  },
  "language_info": {
   "codemirror_mode": {
    "name": "ipython",
    "version": 3
   },
   "file_extension": ".py",
   "mimetype": "text/x-python",
   "name": "python",
   "nbconvert_exporter": "python",
   "pygments_lexer": "ipython3",
   "version": "3.6.5"
  }
 },
 "nbformat": 4,
 "nbformat_minor": 2
}
