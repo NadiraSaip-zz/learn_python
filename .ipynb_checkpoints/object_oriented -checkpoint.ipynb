{
 "cells": [
  {
   "cell_type": "code",
   "execution_count": null,
   "metadata": {},
   "outputs": [],
   "source": [
    "dataBase = []\n",
    "class Human:\n",
    "    def __init__(self, givenFirstName, givenLastName, givenGender, givenStatus=None):\n",
    "        self.fname = givenFirstName\n",
    "        self.lname = givenLastName\n",
    "        self.gender = givenGender\n",
    "        self.status = givenStatus\n",
    "        if givenStatus is None:\n",
    "            self.status = False\n",
    "            \n",
    "    def print_info(self):\n",
    "        print(f'my name is {self.fname}')\n",
    "    def save_info(self):\n",
    "        dataBase.append({'First Name' : self.fname,\n",
    "                        'Last Name': self.fname,\n",
    "                        'Gender':self.gender,\n",
    "                        'Status': self.status})\n",
    "        print(f'{self.fname} has been added to Database')\n",
    "\n",
    "              \n",
    "user1 = Human('Nadira', 'Saip', 'female', True)\n",
    "user2 = Human ('Asal', 'Saip', 'female', True)\n",
    "\n",
    "\n",
    "print(dataBase)\n",
    "user1.save_info()\n",
    "print(dataBase)\n"
   ]
  },
  {
   "cell_type": "code",
   "execution_count": 1,
   "metadata": {},
   "outputs": [],
   "source": [
    "dataBase = []\n",
    "class Human:\n",
    "    def __init__(self, givenFirstName, givenLastName, givenGender, givenStatus=None):\n",
    "        self.fname = givenFirstName\n",
    "        self.lname = givenLastName\n",
    "        self.gender = givenGender\n",
    "        self.status = givenStatus\n",
    "        if givenStatus is None:\n",
    "            self.status = False\n",
    "            \n",
    "    def print_info(self):\n",
    "        print(f'my name is {self.fname}')\n",
    "    def save_info(self):\n",
    "        dataBase.append({'First Name' : self.fname,\n",
    "                        'Last Name': self.fname,\n",
    "                        'Gender':self.gender,\n",
    "                        'Status': self.status})\n",
    "        print(f'{self.fname} has been added to Database')\n",
    "        \n",
    "# Inheritance is to inherit the objects of class\n",
    "\n",
    "class Manager(Human):\n",
    "    pass\n",
    "user1 = Manager('Nadira', 'Saip', 'female', True)\n",
    "user2 = Manager ('Asal', 'Saip', 'female', True)\n"
   ]
  },
  {
   "cell_type": "code",
   "execution_count": null,
   "metadata": {},
   "outputs": [],
   "source": [
    "# Pythonic way to create objects with defining methods\n",
    "user1 = Human('Nadira', 'Saip', 'female')\n",
    "user2 = Human ('Asal', 'Saip', 'female')\n"
   ]
  },
  {
   "cell_type": "code",
   "execution_count": null,
   "metadata": {},
   "outputs": [],
   "source": [
    "# Pythonic way to create objects with defining methods\n",
    "user2 = Human()\n",
    "user2.fname = \"Asal\"\n",
    "user2.lname = \"Saip\"\n",
    "user2.gender = \"female\"\n",
    "user2.status = False\n",
    "user1.print_info()"
   ]
  },
  {
   "cell_type": "code",
   "execution_count": null,
   "metadata": {},
   "outputs": [],
   "source": [
    "# more complex way to add \n",
    "example_user = {\n",
    "    'fname' : 'Nadira',\n",
    "    'lname' : 'Saip',\n",
    "    'gender' : 'female',\n",
    "    'status' : 'False'\n",
    "}\n",
    "print(example_user['fname'])"
   ]
  },
  {
   "cell_type": "markdown",
   "metadata": {},
   "source": [
    "## Object Oriented way\n",
    "\n",
    "dataBase = []\n",
    "\n",
    "       \n",
    "        \n",
    "class Student(object):\n",
    "    \n",
    "    def __init__(self, givenFirstName, givenLastName, givenGender, givenStatus=None):\n",
    "        self.fname  = givenFirstName\n",
    "        self.lname  = givenLastName\n",
    "        self.gender = givenGender\n",
    "        self.status = givenStatus\n",
    "        if givenStatus is None:\n",
    "            self.status = False\n",
    "        \n",
    "\n",
    "    def print_info(self):\n",
    "        print(f'Hi My name is {self.fname}')\n",
    "\n",
    "\n",
    "    def save_info(self):\n",
    "        \n",
    "        dataBase.append({\n",
    "               'FirstName': self.fname,\n",
    "               'LastName': self.lname,\n",
    "               'Gender': self.gender,\n",
    "               'Status': self.status})\n",
    "        print(f'{self.fname} has been added to Database!!')\n",
    "        \n",
    "\n",
    "class Manager(Student):\n",
    "    def delete_user(self, name):\n",
    "        for user in dataBase:\n",
    "            if name in user['FirstName']:\n",
    "                dataBase.remove(user)\n",
    "                print(f'{user[\"FirstName\"]} has been deleted ')\n",
    "                break\n",
    "        else:\n",
    "            print('User not found')\n",
    "            \n",
    "\n",
    "user1 = Student('Kyle', 'Smith', 'Male', True)\n",
    "user2 = Student('Emma', 'Miller', 'Female')\n",
    "user3 = Student('Madina', 'Kyrgyzbayeva', 'Female')\n",
    "user4 = Student('Abdul', 'Sharif', 'Male')\n",
    "manager = Manager('Nodira', 'Saip', 'Female', True)"
   ]
  },
  {
   "cell_type": "code",
   "execution_count": 5,
   "metadata": {},
   "outputs": [
    {
     "name": "stdout",
     "output_type": "stream",
     "text": [
      "[]\n",
      "Kyle has been added to Database!!\n",
      "Emma has been added to Database!!\n",
      "Madina has been added to Database!!\n",
      "Abdul has been added to Database!!\n",
      "Abdul has been deleted \n",
      "[{'FirstName': 'Kyle', 'LastName': 'Smith', 'Gender': 'Male', 'Status': True}, {'FirstName': 'Emma', 'LastName': 'Miller', 'Gender': 'Female', 'Status': False}, {'FirstName': 'Madina', 'LastName': 'Kyrgyzbayeva', 'Gender': 'Female', 'Status': False}]\n"
     ]
    }
   ],
   "source": [
    "print(dataBase)\n",
    "user1.save_info()\n",
    "user2.save_info()\n",
    "user3.save_info()\n",
    "user4.save_info()\n",
    "manager.delete_user('Abdul')\n",
    "print(dataBase)"
   ]
  },
  {
   "cell_type": "markdown",
   "metadata": {},
   "source": []
  }
 ],
 "metadata": {
  "kernelspec": {
   "display_name": "Python 3",
   "language": "python",
   "name": "python3"
  },
  "language_info": {
   "codemirror_mode": {
    "name": "ipython",
    "version": 3
   },
   "file_extension": ".py",
   "mimetype": "text/x-python",
   "name": "python",
   "nbconvert_exporter": "python",
   "pygments_lexer": "ipython3",
   "version": "3.6.5"
  }
 },
 "nbformat": 4,
 "nbformat_minor": 2
}
