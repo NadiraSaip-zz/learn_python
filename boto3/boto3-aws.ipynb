{
 "cells": [
  {
   "cell_type": "markdown",
   "metadata": {},
   "source": [
    "# Connection from pynote to AWS\n",
    "In order to connect from pynote to AWS run the followings:\n",
    "    1. python3.6 -m pip install awscli\n",
    "    2. aws configure\n",
    "        # paste your access key id\n",
    "        # paste your secret key id\n",
    "        "
   ]
  },
  {
   "cell_type": "code",
   "execution_count": null,
   "metadata": {},
   "outputs": [],
   "source": [
    "import boto3\n",
    "dir(boto3)\n"
   ]
  },
  {
   "cell_type": "code",
   "execution_count": null,
   "metadata": {},
   "outputs": [],
   "source": [
    "# above you can see attribute \"client\" which used for resources as below\n",
    "ec2 = boto3.client('ec2')\n",
    "dir (ec2)"
   ]
  },
  {
   "cell_type": "code",
   "execution_count": null,
   "metadata": {},
   "outputs": [],
   "source": [
    "ec2 = boto3.client('ec2')\n",
    "data = ec2.describe_instances()\n",
    "\n",
    "def get_instances():\n",
    "    for item in data['Reservations']:\n",
    "        print('InstanceId', item['Instances'][0]['InstanceId'])\n",
    "        print('SubnetId', item['Instances'][0]['SubnetId'])"
   ]
  },
  {
   "cell_type": "code",
   "execution_count": null,
   "metadata": {},
   "outputs": [],
   "source": [
    "import boto3\n",
    "import json\n",
    "ec2 = boto3.client('ec2')\n",
    "data = ec2.describe_instances()\n"
   ]
  },
  {
   "cell_type": "markdown",
   "metadata": {},
   "source": [
    "# methods:\n",
    "    client: to get information\n",
    "    resource: used to create and delete the instances"
   ]
  },
  {
   "cell_type": "code",
   "execution_count": null,
   "metadata": {},
   "outputs": [],
   "source": [
    "# Creates an instance in aws in US-East-2\n",
    "\n",
    "import boto3\n",
    "import json\n",
    "ec2 = boto3.resource('ec2')\n",
    "ec2.create_instances(ImageId='ami-0d8f6eb4f641ef691', MinCount=1, MaxCount=1, InstanceType='t2.micro')"
   ]
  },
  {
   "cell_type": "code",
   "execution_count": null,
   "metadata": {},
   "outputs": [],
   "source": [
    "# defining image id in variables and create an instance in aws\n",
    "def create_instance(name):\n",
    "    images = {\n",
    "        'aws-linux': 'ami-0d8f6eb4f641ef691',\n",
    "        'redhat' : 'ami-0520e698dd500b1d1 '\n",
    "    }\n",
    "    if name in images.keys():\n",
    "        image_id = images[name]\n",
    "    else:\n",
    "        print('Image not found')\n",
    "    if image_id:\n",
    "        ec2.create_instances(ImageId='ami-0d8f6eb4f641ef691', MinCount=1, MaxCount=1, InstanceType='t2.micro')\n"
   ]
  },
  {
   "cell_type": "code",
   "execution_count": null,
   "metadata": {},
   "outputs": [],
   "source": [
    "get_instances()"
   ]
  },
  {
   "cell_type": "code",
   "execution_count": null,
   "metadata": {},
   "outputs": [],
   "source": [
    "create_instance('redhat')"
   ]
  },
  {
   "cell_type": "code",
   "execution_count": null,
   "metadata": {},
   "outputs": [],
   "source": [
    "import boto3\n",
    "import json\n",
    "import argparse\n",
    "\n",
    "ec2 = boto3.resource('ec2')\n"
   ]
  }
 ],
 "metadata": {
  "kernelspec": {
   "display_name": "Python 3",
   "language": "python",
   "name": "python3"
  },
  "language_info": {
   "codemirror_mode": {
    "name": "ipython",
    "version": 3
   },
   "file_extension": ".py",
   "mimetype": "text/x-python",
   "name": "python",
   "nbconvert_exporter": "python",
   "pygments_lexer": "ipython3",
   "version": "3.6.5"
  }
 },
 "nbformat": 4,
 "nbformat_minor": 2
}
