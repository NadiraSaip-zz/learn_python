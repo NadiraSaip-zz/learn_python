{
 "cells": [
  {
   "cell_type": "code",
   "execution_count": 3,
   "metadata": {},
   "outputs": [
    {
     "name": "stdout",
     "output_type": "stream",
     "text": [
      "this is my string type variable\n"
     ]
    }
   ],
   "source": [
    "my_string = \"this is my string type variable\"\n",
    "print (my_string)"
   ]
  },
  {
   "cell_type": "code",
   "execution_count": 7,
   "metadata": {},
   "outputs": [
    {
     "name": "stdout",
     "output_type": "stream",
     "text": [
      "this is my string type variable\n"
     ]
    }
   ],
   "source": [
    "my_cuted_string = \"is my st\"\n",
    "print (my_string)\n"
   ]
  },
  {
   "cell_type": "code",
   "execution_count": 12,
   "metadata": {},
   "outputs": [
    {
     "name": "stdout",
     "output_type": "stream",
     "text": [
      "-28\n"
     ]
    }
   ],
   "source": [
    "my_integer = 1991\n",
    "now = 2019\n",
    "my_age = my_integer - now\n",
    "print (my_age)"
   ]
  },
  {
   "cell_type": "code",
   "execution_count": 14,
   "metadata": {},
   "outputs": [
    {
     "name": "stdout",
     "output_type": "stream",
     "text": [
      "['Abby', 'Jace', 'Nevaeh']\n"
     ]
    }
   ],
   "source": [
    "my_users = ['Abby','Jace', 'Nevaeh' ]\n",
    "print (my_users)"
   ]
  },
  {
   "cell_type": "code",
   "execution_count": 21,
   "metadata": {},
   "outputs": [
    {
     "name": "stdout",
     "output_type": "stream",
     "text": [
      "['Abby', 'Jace', 'Nevaeh', 'Emma']\n"
     ]
    }
   ],
   "source": [
    "my_users = ['Abby','Jace', 'Nevaeh' ]\n",
    "my_users.append ('Emma')\n",
    "print (my_users)"
   ]
  },
  {
   "cell_type": "code",
   "execution_count": null,
   "metadata": {},
   "outputs": [],
   "source": []
  },
  {
   "cell_type": "code",
   "execution_count": 30,
   "metadata": {},
   "outputs": [
    {
     "name": "stdout",
     "output_type": "stream",
     "text": [
      "['user_emma()', 'user_smith()']\n"
     ]
    }
   ],
   "source": [
    "github_users = []\n",
    "user_emma = dict (username = 'emma_11', firstname ='Emma', lastname ='Lopes', password ='redhat')\n",
    "user_smith = dict (username = 'frank', firstname = 'Frank', lastname = 'Smith', password = 'frank2019')\n",
    "github_users = ['user_emma()' ,'user_smith()']\n",
    "print (github_users)"
   ]
  },
  {
   "cell_type": "markdown",
   "metadata": {},
   "source": []
  }
 ],
 "metadata": {
  "kernelspec": {
   "display_name": "Python 3",
   "language": "python",
   "name": "python3"
  },
  "language_info": {
   "codemirror_mode": {
    "name": "ipython",
    "version": 3
   },
   "file_extension": ".py",
   "mimetype": "text/x-python",
   "name": "python",
   "nbconvert_exporter": "python",
   "pygments_lexer": "ipython3",
   "version": "3.6.5"
  }
 },
 "nbformat": 4,
 "nbformat_minor": 2
}
