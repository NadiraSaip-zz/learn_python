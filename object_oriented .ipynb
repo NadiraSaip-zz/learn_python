{
 "cells": [
  {
   "cell_type": "code",
   "execution_count": 28,
   "metadata": {},
   "outputs": [
    {
     "name": "stdout",
     "output_type": "stream",
     "text": [
      "[]\n"
     ]
    },
    {
     "ename": "NameError",
     "evalue": "name 'save_info' is not defined",
     "output_type": "error",
     "traceback": [
      "\u001b[0;31m---------------------------------------------------------------------------\u001b[0m",
      "\u001b[0;31mNameError\u001b[0m                                 Traceback (most recent call last)",
      "\u001b[0;32m<ipython-input-28-ab6356187abc>\u001b[0m in \u001b[0;36m<module>\u001b[0;34m\u001b[0m\n\u001b[1;32m     19\u001b[0m \u001b[0;34m\u001b[0m\u001b[0m\n\u001b[1;32m     20\u001b[0m \u001b[0mprint\u001b[0m\u001b[0;34m(\u001b[0m\u001b[0mdataBase\u001b[0m\u001b[0;34m)\u001b[0m\u001b[0;34m\u001b[0m\u001b[0m\n\u001b[0;32m---> 21\u001b[0;31m \u001b[0muser1\u001b[0m\u001b[0;34m.\u001b[0m\u001b[0msave_info\u001b[0m\u001b[0;34m(\u001b[0m\u001b[0;34m)\u001b[0m\u001b[0;34m\u001b[0m\u001b[0m\n\u001b[0m\u001b[1;32m     22\u001b[0m \u001b[0mprint\u001b[0m\u001b[0;34m(\u001b[0m\u001b[0mdataBase\u001b[0m\u001b[0;34m)\u001b[0m\u001b[0;34m\u001b[0m\u001b[0m\n",
      "\u001b[0;32m<ipython-input-28-ab6356187abc>\u001b[0m in \u001b[0;36msave_info\u001b[0;34m(self)\u001b[0m\n\u001b[1;32m     11\u001b[0m                         \u001b[0;34m'Last Name'\u001b[0m\u001b[0;34m:\u001b[0m \u001b[0mself\u001b[0m\u001b[0;34m.\u001b[0m\u001b[0mfname\u001b[0m\u001b[0;34m,\u001b[0m\u001b[0;34m\u001b[0m\u001b[0m\n\u001b[1;32m     12\u001b[0m                         'Gender':self.gender})\n\u001b[0;32m---> 13\u001b[0;31m         \u001b[0mprint\u001b[0m\u001b[0;34m(\u001b[0m\u001b[0;34mf'{save_info} has been added to Database'\u001b[0m\u001b[0;34m)\u001b[0m\u001b[0;34m\u001b[0m\u001b[0m\n\u001b[0m\u001b[1;32m     14\u001b[0m \u001b[0;34m\u001b[0m\u001b[0m\n\u001b[1;32m     15\u001b[0m \u001b[0;34m\u001b[0m\u001b[0m\n",
      "\u001b[0;31mNameError\u001b[0m: name 'save_info' is not defined"
     ]
    }
   ],
   "source": [
    "dataBase = []\n",
    "class Human:\n",
    "    def __init__(self, givenFirstName, givenLastName, givenGender):\n",
    "        self.fname = givenFirstName\n",
    "        self.lname = givenLastName\n",
    "        self.gender = givenGender\n",
    "    def print_info(self):\n",
    "        print(f'my name is {self.fname}')\n",
    "    def save_info(self):\n",
    "        dataBase.append({'First Name' : self.fname,\n",
    "                        'Last Name': self.fname,\n",
    "                        'Gender':self.gender})\n",
    "        print(f'{save_info} has been added to Database')\n",
    "\n",
    "              \n",
    "user1 = Human('Nadira', 'Saip', 'female')\n",
    "user2 = Human ('Asal', 'Saip', 'female')\n",
    "\n",
    "\n",
    "print(dataBase)\n",
    "user1.save_info()\n",
    "print(dataBase)\n"
   ]
  },
  {
   "cell_type": "code",
   "execution_count": 23,
   "metadata": {},
   "outputs": [],
   "source": [
    "# Pythonic way to create objects with defining methods\n",
    "user1 = Human('Nadira', 'Saip', 'female')\n",
    "user2 = Human ('Asal', 'Saip', 'female')\n"
   ]
  },
  {
   "cell_type": "code",
   "execution_count": null,
   "metadata": {},
   "outputs": [],
   "source": []
  },
  {
   "cell_type": "code",
   "execution_count": null,
   "metadata": {},
   "outputs": [],
   "source": [
    "# Pythonic way to create objects with defining methods\n",
    "user2 = Human()\n",
    "user2.fname = \"Asal\"\n",
    "user2.lname = \"Saip\"\n",
    "user2.gender = \"female\"\n",
    "user2.status = False\n",
    "user1.print_info()"
   ]
  },
  {
   "cell_type": "code",
   "execution_count": null,
   "metadata": {},
   "outputs": [],
   "source": [
    "# more complex way to add \n",
    "example_user = {\n",
    "    'fname' : 'Nadira',\n",
    "    'lname' : 'Saip',\n",
    "    'gender' : 'female',\n",
    "    'status' : 'False'\n",
    "}\n",
    "print(example_user['fname'])"
   ]
  },
  {
   "cell_type": "code",
   "execution_count": null,
   "metadata": {},
   "outputs": [],
   "source": []
  }
 ],
 "metadata": {
  "kernelspec": {
   "display_name": "Python 3",
   "language": "python",
   "name": "python3"
  },
  "language_info": {
   "codemirror_mode": {
    "name": "ipython",
    "version": 3
   },
   "file_extension": ".py",
   "mimetype": "text/x-python",
   "name": "python",
   "nbconvert_exporter": "python",
   "pygments_lexer": "ipython3",
   "version": "3.6.5"
  }
 },
 "nbformat": 4,
 "nbformat_minor": 2
}
