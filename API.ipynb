{
 "cells": [
  {
   "cell_type": "markdown",
   "metadata": {},
   "source": [
    "# API \n",
    "stands for Application Programming Interface. An API is a software intermediary that allows two applications to talk to each other.  In other words, an API is the messenger that delivers your request to the provider that you’re requesting it from and then delivers the response back to you.\n"
   ]
  },
  {
   "cell_type": "code",
   "execution_count": null,
   "metadata": {},
   "outputs": [],
   "source": [
    "!python3.6 -m pip install requests"
   ]
  },
  {
   "cell_type": "markdown",
   "metadata": {},
   "source": [
    "# API Methods\n",
    "    1. GET\n",
    "    2. POST\n",
    "    3. PUT\n",
    "    4. DELETE"
   ]
  },
  {
   "cell_type": "markdown",
   "metadata": {},
   "source": [
    "# GET Method used in Below scripts to make API call"
   ]
  },
  {
   "cell_type": "code",
   "execution_count": 4,
   "metadata": {},
   "outputs": [
    {
     "name": "stdout",
     "output_type": "stream",
     "text": [
      "<Response [200]>\n"
     ]
    }
   ],
   "source": [
    "import requests\n",
    "response = requests.get('https://api.academy.fuchicorp.com/')\n",
    "print(response)"
   ]
  },
  {
   "cell_type": "code",
   "execution_count": null,
   "metadata": {},
   "outputs": [],
   "source": [
    "#convert the response into json format\n",
    "\n",
    "import requests\n",
    "response = requests.get('https://api.academy.fuchicorp.com/').json()  \n",
    "print(response)"
   ]
  },
  {
   "cell_type": "code",
   "execution_count": null,
   "metadata": {},
   "outputs": [],
   "source": [
    "#messsage response\n",
    "\n",
    "import requests\n",
    "response = requests.get('https://api.academy.fuchicorp.com/').json()\n",
    "print(response['message'])"
   ]
  },
  {
   "cell_type": "code",
   "execution_count": 6,
   "metadata": {},
   "outputs": [
    {
     "name": "stdout",
     "output_type": "stream",
     "text": [
      "something wrong\n"
     ]
    }
   ],
   "source": [
    "#if the page is not working properly you can use if statement\n",
    "\n",
    "import requests\n",
    "response = requests.get('https://api.academy.fuchicorp.com/example')\n",
    "if response.status_code == 200:\n",
    "    print(response.json())\n",
    "else:\n",
    "    print('something wrong')"
   ]
  },
  {
   "cell_type": "markdown",
   "metadata": {},
   "source": [
    "# POST Method used in below script"
   ]
  },
  {
   "cell_type": "code",
   "execution_count": 8,
   "metadata": {},
   "outputs": [
    {
     "name": "stdout",
     "output_type": "stream",
     "text": [
      "{'username': 'nsaip', 'password': 'redhat', 'firstname': 'Nadira', 'lastname': 'Saip', 'email': 'nsaip@evolvecyber.com'}\n",
      "{'message': 'User has been created!!'}\n"
     ]
    }
   ],
   "source": [
    "# this adds user into the page\n",
    "user = {}\n",
    "user['username'] = 'nsaip'\n",
    "user['password'] = 'redhat'\n",
    "user['firstname'] = 'Nadira'\n",
    "user['lastname'] = 'Saip'\n",
    "user['email'] = 'nsaip@evolvecyber.com'\n",
    "print(user)\n",
    "response = requests.post('http://api.academy.fuchicorp.com/v0.1/create_example/user', json=user)\n",
    "print(response.json())"
   ]
  },
  {
   "cell_type": "markdown",
   "metadata": {},
   "source": [
    "# PUT Method  is used in below script. 'put' method is used to udpate the data"
   ]
  },
  {
   "cell_type": "code",
   "execution_count": 13,
   "metadata": {},
   "outputs": [
    {
     "name": "stdout",
     "output_type": "stream",
     "text": [
      "{'message': 'User name or password is invalid'}\n"
     ]
    }
   ],
   "source": [
    "#this code updates your uid on application\n",
    "\n",
    "my_id = \"916ec6bd-76a8-4695-958c-e5b7bc8c7f59\"\n",
    "url = 'https://api.academy.fuchicorp.com/v0.1/update_example/user/{my_uid}'\n",
    "user = {}\n",
    "user['username'] = 'nsaip'\n",
    "user['password'] = 'redhat'\n",
    "user['firstname'] = 'Nadira'\n",
    "user['lastname'] = 'Saip'\n",
    "user['email'] = 'nsaip@evolvecyber.com'\n",
    "response = requests.put(url, json=user)\n",
    "print(response.json())\n",
    "\n",
    "\n"
   ]
  },
  {
   "cell_type": "code",
   "execution_count": null,
   "metadata": {},
   "outputs": [],
   "source": []
  }
 ],
 "metadata": {
  "kernelspec": {
   "display_name": "Python 3",
   "language": "python",
   "name": "python3"
  },
  "language_info": {
   "codemirror_mode": {
    "name": "ipython",
    "version": 3
   },
   "file_extension": ".py",
   "mimetype": "text/x-python",
   "name": "python",
   "nbconvert_exporter": "python",
   "pygments_lexer": "ipython3",
   "version": "3.6.5"
  }
 },
 "nbformat": 4,
 "nbformat_minor": 2
}
