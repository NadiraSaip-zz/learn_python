{
 "cells": [
  {
   "cell_type": "code",
   "execution_count": null,
   "metadata": {},
   "outputs": [],
   "source": [
    "\"\"\"Working with JSON data \"\"\"\n",
    "\n",
    "\n"
   ]
  },
  {
   "cell_type": "code",
   "execution_count": 9,
   "metadata": {},
   "outputs": [
    {
     "name": "stdout",
     "output_type": "stream",
     "text": [
      "None\n"
     ]
    }
   ],
   "source": [
    "import json           \n",
    "with open('data.json') as  nadiras_json_data:   #open the data.json file and rename it as nadiras_json_data\n",
    "    pythondata = json.load(nadiras_json_data)      #conerting the nadiras_json_data file into python format\n",
    "\n",
    "# in python there is no data type as null so it ll be execute none\n",
    "    \n",
    "print(pythondata['items'][0]['group'])                                       "
   ]
  },
  {
   "cell_type": "markdown",
   "metadata": {},
   "source": [
    "## WORKING WITH FUNCTIONS AND JSON DATA\n",
    "1. CREATE FUNCTION CALL PRINT MY_DATA\n",
    "2. function should take argument integer\n",
    "3. print the data\n",
    "\n",
    "# 2. CREATE FUNCTION WHICH WILL ASK FROM USER REPO NAME\n",
    "1. input from user reponame\n",
    "2. look for the repo from data\n",
    "3. as soon as function found should print reponame\n"
   ]
  },
  {
   "cell_type": "code",
   "execution_count": null,
   "metadata": {},
   "outputs": [],
   "source": [
    "import json\n",
    "with open('data.json') as convertedfile:\n",
    "    newdata = json.load(convertedfile)\n",
    "print(newdata['items'])\n",
    "    \n",
    "    \n",
    "def print_my_data(integer):\n",
    "    print(vonvertedfile['items'][integer])\n",
    "print_my_data(3)\n",
    "    "
   ]
  },
  {
   "cell_type": "code",
   "execution_count": null,
   "metadata": {},
   "outputs": [],
   "source": [
    "def find_repo():\n",
    "    reponame = input('Please enter reponame: ')\n",
    "    for repo in convertedfile['items']:\n",
    "        if reponame == repo['name']:\n",
    "            print(repo['name'])"
   ]
  },
  {
   "cell_type": "code",
   "execution_count": null,
   "metadata": {},
   "outputs": [],
   "source": [
    "def does_repo_exist(repo_name):\n",
    "    for repo in convertedfile['items']:\n",
    "        if repo_name == repo['name']:\n",
    "            print(repo)\n",
    "            break\n",
    "        else:\n",
    "            print ('repo not found')"
   ]
  },
  {
   "cell_type": "code",
   "execution_count": null,
   "metadata": {},
   "outputs": [],
   "source": [
    "does_repo_exist('webplatform')"
   ]
  },
  {
   "cell_type": "code",
   "execution_count": 2,
   "metadata": {},
   "outputs": [],
   "source": [
    "my_user_list = []\n",
    "for user_num in range(1, 11):\n",
    "    my_user_list.append({\"username\": f'user-{user_num}', \n",
    "                         \"password\": None,  \n",
    "                         \"status\": False})"
   ]
  },
  {
   "cell_type": "code",
   "execution_count": 3,
   "metadata": {},
   "outputs": [
    {
     "data": {
      "text/plain": [
       "[{'username': 'user-1', 'password': None, 'status': False},\n",
       " {'username': 'user-2', 'password': None, 'status': False},\n",
       " {'username': 'user-3', 'password': None, 'status': False},\n",
       " {'username': 'user-4', 'password': None, 'status': False},\n",
       " {'username': 'user-5', 'password': None, 'status': False},\n",
       " {'username': 'user-6', 'password': None, 'status': False},\n",
       " {'username': 'user-7', 'password': None, 'status': False},\n",
       " {'username': 'user-8', 'password': None, 'status': False},\n",
       " {'username': 'user-9', 'password': None, 'status': False},\n",
       " {'username': 'user-10', 'password': None, 'status': False}]"
      ]
     },
     "execution_count": 3,
     "metadata": {},
     "output_type": "execute_result"
    }
   ],
   "source": [
    "my_user_list    # this will print out python data type"
   ]
  },
  {
   "cell_type": "code",
   "execution_count": 5,
   "metadata": {},
   "outputs": [
    {
     "name": "stdout",
     "output_type": "stream",
     "text": [
      "[{'username': 'user-1', 'password': None, 'status': False}, {'username': 'user-2', 'password': None, 'status': False}, {'username': 'user-3', 'password': None, 'status': False}, {'username': 'user-4', 'password': None, 'status': False}, {'username': 'user-5', 'password': None, 'status': False}, {'username': 'user-6', 'password': None, 'status': False}, {'username': 'user-7', 'password': None, 'status': False}, {'username': 'user-8', 'password': None, 'status': False}, {'username': 'user-9', 'password': None, 'status': False}, {'username': 'user-10', 'password': None, 'status': False}]\n"
     ]
    },
    {
     "ename": "NameError",
     "evalue": "name 'json' is not defined",
     "output_type": "error",
     "traceback": [
      "\u001b[0;31m---------------------------------------------------------------------------\u001b[0m",
      "\u001b[0;31mNameError\u001b[0m                                 Traceback (most recent call last)",
      "\u001b[0;32m<ipython-input-5-80e1529e9079>\u001b[0m in \u001b[0;36m<module>\u001b[0;34m\u001b[0m\n\u001b[1;32m      1\u001b[0m \u001b[0mprint\u001b[0m\u001b[0;34m(\u001b[0m\u001b[0mmy_user_list\u001b[0m\u001b[0;34m)\u001b[0m\u001b[0;34m\u001b[0m\u001b[0m\n\u001b[0;32m----> 2\u001b[0;31m \u001b[0mprint\u001b[0m\u001b[0;34m(\u001b[0m\u001b[0mjson\u001b[0m\u001b[0;34m.\u001b[0m\u001b[0mdump\u001b[0m\u001b[0;34m(\u001b[0m\u001b[0mmy_user_list\u001b[0m\u001b[0;34m)\u001b[0m\u001b[0;34m)\u001b[0m  \u001b[0;31m#this converted from python to json data type\u001b[0m\u001b[0;34m\u001b[0m\u001b[0m\n\u001b[0m",
      "\u001b[0;31mNameError\u001b[0m: name 'json' is not defined"
     ]
    }
   ],
   "source": [
    "print(my_user_list)\n",
    "print(json.dump(my_user_list))  #this converted from python to json data type"
   ]
  },
  {
   "cell_type": "code",
   "execution_count": 6,
   "metadata": {},
   "outputs": [
    {
     "ename": "NameError",
     "evalue": "name 'json' is not defined",
     "output_type": "error",
     "traceback": [
      "\u001b[0;31m---------------------------------------------------------------------------\u001b[0m",
      "\u001b[0;31mNameError\u001b[0m                                 Traceback (most recent call last)",
      "\u001b[0;32m<ipython-input-6-c238bf94f32d>\u001b[0m in \u001b[0;36m<module>\u001b[0;34m\u001b[0m\n\u001b[1;32m      1\u001b[0m \u001b[0;34m\u001b[0m\u001b[0m\n\u001b[0;32m----> 2\u001b[0;31m \u001b[0mprint\u001b[0m\u001b[0;34m(\u001b[0m\u001b[0mjson\u001b[0m\u001b[0;34m.\u001b[0m\u001b[0mdumps\u001b[0m\u001b[0;34m(\u001b[0m\u001b[0mmy_user_list\u001b[0m\u001b[0;34m,\u001b[0m \u001b[0mindent\u001b[0m\u001b[0;34m=\u001b[0m\u001b[0;36m2\u001b[0m\u001b[0;34m)\u001b[0m\u001b[0;34m)\u001b[0m  \u001b[0;31m#indent will give space and will make prettier\u001b[0m\u001b[0;34m\u001b[0m\u001b[0m\n\u001b[0m",
      "\u001b[0;31mNameError\u001b[0m: name 'json' is not defined"
     ]
    }
   ],
   "source": [
    "\n",
    "print(json.dumps(my_user_list, indent=2))  #indent will give space and will make prettier"
   ]
  },
  {
   "cell_type": "code",
   "execution_count": 11,
   "metadata": {},
   "outputs": [],
   "source": [
    "with open('user_list.json', 'w') as my_file:   #'w'\n",
    "    json.dump(my_user_list, my_file, indent=2)"
   ]
  },
  {
   "cell_type": "code",
   "execution_count": null,
   "metadata": {},
   "outputs": [],
   "source": []
  },
  {
   "cell_type": "code",
   "execution_count": null,
   "metadata": {},
   "outputs": [],
   "source": []
  },
  {
   "cell_type": "code",
   "execution_count": null,
   "metadata": {},
   "outputs": [],
   "source": []
  },
  {
   "cell_type": "code",
   "execution_count": null,
   "metadata": {},
   "outputs": [],
   "source": []
  }
 ],
 "metadata": {
  "kernelspec": {
   "display_name": "Python 3",
   "language": "python",
   "name": "python3"
  },
  "language_info": {
   "codemirror_mode": {
    "name": "ipython",
    "version": 3
   },
   "file_extension": ".py",
   "mimetype": "text/x-python",
   "name": "python",
   "nbconvert_exporter": "python",
   "pygments_lexer": "ipython3",
   "version": "3.6.5"
  }
 },
 "nbformat": 4,
 "nbformat_minor": 2
}
