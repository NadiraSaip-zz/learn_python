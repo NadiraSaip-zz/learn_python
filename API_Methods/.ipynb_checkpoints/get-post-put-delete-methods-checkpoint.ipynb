{
 "cells": [
  {
   "cell_type": "code",
   "execution_count": null,
   "metadata": {},
   "outputs": [],
   "source": [
    "!python3.6 -m pip install requests\n"
   ]
  },
  {
   "cell_type": "code",
   "execution_count": null,
   "metadata": {},
   "outputs": [],
   "source": [
    "import requests\n",
    "response = requests.get('https://api.academy.fuchicorp.com/')\n",
    "print(response)"
   ]
  },
  {
   "cell_type": "code",
   "execution_count": null,
   "metadata": {},
   "outputs": [],
   "source": [
    "import requests\n",
    "response = requests.get('https://api.academy.fuchicorp.com/').json()  \n",
    "print(response)\n"
   ]
  },
  {
   "cell_type": "code",
   "execution_count": null,
   "metadata": {},
   "outputs": [],
   "source": [
    "# this adds user into the page\n",
    "user = {}\n",
    "user['username'] = 'test'\n",
    "user['password'] = 'redhat2018'\n",
    "user['firstname'] = 'NadiraTest'\n",
    "user['lastname'] = 'Saiptest'\n",
    "user['email'] = 'test@testing.com'\n",
    "print(user)\n",
    "response = requests.post('https://api.academy.fuchicorp.com/v0.1/create_example/user', json=user)\n",
    "print(response.json())"
   ]
  },
  {
   "cell_type": "code",
   "execution_count": null,
   "metadata": {},
   "outputs": [],
   "source": [
    "## The below script will update the user's information\n",
    "# API requirements: uuid, firstname, lastname, password, email\n",
    "\n",
    "my_uid = \"paste from user id\"   \n",
    "# updates username form NadiraTest into Emma Watson\n",
    "url = 'https://api.academy.fuchicorp.com/v0.1/example/users/{my_uid}'\n",
    "updated_user = {\n",
    "    \n",
    "    \"username\": \"harrypotter\",\n",
    "    \"password\": \"redhat2018\",\n",
    "    \"firstname\": \"emma\",\n",
    "    \"lastname\": \"watson\",\n",
    "    \"email\": \"emmawatson@harrypotter.com\"\n",
    "}\n",
    "\n",
    "response = requests.put(url, json=updated_user)\n",
    "if response.status_code == 200:\n",
    "    print(response.json())\n",
    "else:\n",
    "    print('something went wrong')"
   ]
  },
  {
   "cell_type": "code",
   "execution_count": null,
   "metadata": {},
   "outputs": [],
   "source": [
    "## Delete the user with API call\n",
    "user_id = \"paste user id here\"   \n",
    "delete_url = f'https://api.academy.fuchicorp.com/v0.1/delete_example/user/{user_id}'\n",
    "to_delete_user = {\n",
    "    'username': 'test',\n",
    "    'password': 'redhat2018'\n",
    "}\n",
    "response = requests.put(delete_url, json=to_delete_user)\n",
    "if response.status_code == 200:\n",
    "    print(response.json())\n",
    "else:\n",
    "    print(\"something went wrong\")\n",
    "    \n"
   ]
  },
  {
   "cell_type": "code",
   "execution_count": null,
   "metadata": {},
   "outputs": [],
   "source": [
    "# enviroment variables are stored in /bashrc file"
   ]
  },
  {
   "cell_type": "code",
   "execution_count": null,
   "metadata": {},
   "outputs": [],
   "source": [
    "%set_env digital_ocean_token= 'copy and paste token'"
   ]
  },
  {
   "cell_type": "code",
   "execution_count": null,
   "metadata": {},
   "outputs": [],
   "source": [
    "## The OS module in Python provides a way of using operating system dependent functionality. \n",
    "\n",
    "# The functions that the OS module provides allows you to interface with the underlying operating system \n",
    "# that Python is running on – be that Windows, Mac or Linux. \n",
    "\n",
    "# You can find important information about your location or about the process. \n",
    "\n",
    "\n",
    "import os\n",
    "token = os.environ.get('digital_ocean_token')\n",
    "\n",
    "url = 'https://api.digitalocean.com/v2/droplets?page=1&per_page=1'\n",
    "\n",
    "!curl -X GET -H \"Content-Type: application/json\" -H \"Authorization: Bearer $digital_ocean_token\" \"https://api.digitalocean.com/v2/droplets?page=1&per_page=1\"\n",
    "def get_list_droplets():\n",
    "    url = 'https://api.digitalocean.com/v2/droplets?page=1&per_page=1'\n",
    "    auth = {\n",
    "        \"Authorization\": f\"Bearer {token}\",  #get token to authorize \n",
    "        \"Content-Type\" : \"application/json\" # authorize only json format\n",
    "    }\n",
    "    response = requests.get(url=url, headers=auth)\n",
    "    if response.status_code == 200:\n",
    "        print(response.json())\n",
    "  "
   ]
  },
  {
   "cell_type": "code",
   "execution_count": null,
   "metadata": {},
   "outputs": [],
   "source": [
    "#convert from json into python\n",
    "import json\n",
    "print(json.loads('{\"name\":\"example2.com\",\"region\":\"nyc3\",\"size\":\"s-1vcpu-1gb\",\"image\":\"ubuntu-16-04-x64\",\"ssh_keys\":[107149],\"backups\":false,\"ipv6\":true,\"user_data\":null,\"private_networking\":null,\"volumes\": null,\"tags\":[\"web\"]}'))"
   ]
  },
  {
   "cell_type": "code",
   "execution_count": null,
   "metadata": {},
   "outputs": [],
   "source": [
    "#authenticates a user\n",
    "\n",
    "import os\n",
    "import requests\n",
    "auth = {\n",
    "    \"Authorization\" : \"Bearer {}\".format(os.environ.get('digital_ocean_token')),\n",
    "    \"Content-Type\"  : \"application/json\"\n",
    "}\n",
    "\n",
    "def get_list_droplets():\n",
    "    url = \"https://api.digitalocean.com/v2/droplets?page=1&per_page=1\"\n",
    "    response = requests.get(url=url, headers=auth)\n",
    "    if response.status_code == 200:\n",
    "        print(response.json())\n",
    "    else:\n",
    "        print(f'API returned {response.status_code}')\n",
    "\n",
    "        \n",
    "get_list_droplets()"
   ]
  },
  {
   "cell_type": "code",
   "execution_count": 16,
   "metadata": {},
   "outputs": [],
   "source": [
    "# creates a droplet\n",
    "import os\n",
    "import requests\n",
    "auth = {\n",
    "    \"Authorization\" : \"Bearer {}\".format(os.environ.get('digital_ocean_token')),\n",
    "    \"Content-Type\"  : \"application/json\"\n",
    "}\n",
    "\n",
    "def get_list_droplets():\n",
    "    url = \"https://api.digitalocean.com/v2/droplets\"\n",
    "    response = requests.get(url=url, headers=auth)\n",
    "    if response.status_code == 200:\n",
    "        print(response.json())\n",
    "\n",
    "def create_droplet(name, image):\n",
    "    url = \"https://api.digitalocean.com/v2/droplets\"\n",
    "    droplet1 = { 'name': name, \n",
    "                  'region': 'nyc3', \n",
    "                  'size': 's-1vcpu-1gb', \n",
    "                  'image': image, \n",
    "                  'backups': False, \n",
    "                  'user_data': None, \n",
    "                  'private_networking': None,\n",
    "                  'volumes': None, \n",
    "                  'tags': ['web'] }\n",
    "    response = requests.post(url=url, headers=auth, json=droplet1)\n",
    "    if response.status_code == 200 and response.status_code == 202:\n",
    "        print ('Droplet has been created')\n",
    "\n",
    "    \n",
    "get_list_droplets()"
   ]
  },
  {
   "cell_type": "code",
   "execution_count": null,
   "metadata": {},
   "outputs": [],
   "source": []
  }
 ],
 "metadata": {
  "kernelspec": {
   "display_name": "Python 3",
   "language": "python",
   "name": "python3"
  },
  "language_info": {
   "codemirror_mode": {
    "name": "ipython",
    "version": 3
   },
   "file_extension": ".py",
   "mimetype": "text/x-python",
   "name": "python",
   "nbconvert_exporter": "python",
   "pygments_lexer": "ipython3",
   "version": "3.6.5"
  }
 },
 "nbformat": 4,
 "nbformat_minor": 2
}
